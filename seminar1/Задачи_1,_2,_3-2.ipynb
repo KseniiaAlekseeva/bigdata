{
  "nbformat": 4,
  "nbformat_minor": 0,
  "metadata": {
    "colab": {
      "provenance": []
    },
    "kernelspec": {
      "name": "python3",
      "display_name": "Python 3"
    },
    "language_info": {
      "name": "python"
    }
  },
  "cells": [
    {
      "cell_type": "markdown",
      "source": [
        "Задача 1. map( )\n",
        "\n",
        "У нас есть список чисел. Мы хотим получить новый список, в котором каждый элемент будет возводиться\n",
        "в квадрат. Ниже показано решение задача через цикл, решите задачу с помощью функции map:"
      ],
      "metadata": {
        "id": "auXMOyBZvJKt"
      }
    },
    {
      "cell_type": "code",
      "source": [
        "numbers = [1, 2, 3, 4, 5]\n",
        "new_numbers = []\n",
        "for num in numbers:\n",
        "  squared = num**2\n",
        "  new_numbers.append(squared)\n",
        "\n",
        "print(new_numbers)"
      ],
      "metadata": {
        "colab": {
          "base_uri": "https://localhost:8080/"
        },
        "id": "7YdLu6n6vKTS",
        "outputId": "26152960-507d-47ea-f1db-b2ad8bbf57cc"
      },
      "execution_count": 8,
      "outputs": [
        {
          "output_type": "stream",
          "name": "stdout",
          "text": [
            "[1, 4, 9, 16, 25]\n"
          ]
        }
      ]
    },
    {
      "cell_type": "code",
      "source": [
        "new=map(lambda x: x**2,numbers)\n",
        "next(new)\n",
        "print(list(new))\n",
        "\n"
      ],
      "metadata": {
        "id": "yyLIO4l5v5T0",
        "colab": {
          "base_uri": "https://localhost:8080/"
        },
        "outputId": "90247632-359c-438a-ce5b-d420666e9b8c"
      },
      "execution_count": 13,
      "outputs": [
        {
          "output_type": "stream",
          "name": "stdout",
          "text": [
            "[4, 9, 16, 25]\n"
          ]
        }
      ]
    },
    {
      "cell_type": "markdown",
      "source": [
        "Задача 2. reduce( )\n",
        "\n",
        "У нас есть список чисел, и мы хотим получить их сумму.\n",
        "Ниже показано решение задача через цикл, решите задачу с помощью функции reduce:"
      ],
      "metadata": {
        "id": "jmEBB1dxv4Zz"
      }
    },
    {
      "cell_type": "code",
      "source": [
        "numbers = [1, 2, 3, 4, 5]\n",
        "result = 0\n",
        "for num in numbers:\n",
        "  result += num\n",
        "\n",
        "print(result)"
      ],
      "metadata": {
        "colab": {
          "base_uri": "https://localhost:8080/"
        },
        "id": "FzHo6ssdwXnE",
        "outputId": "eb2c8c89-b2af-44e1-c229-dfc775fa88af"
      },
      "execution_count": 14,
      "outputs": [
        {
          "output_type": "stream",
          "name": "stdout",
          "text": [
            "15\n"
          ]
        }
      ]
    },
    {
      "cell_type": "code",
      "source": [
        "# Ваше решение\n",
        "from functools import reduce\n",
        "print(reduce(lambda x,y: x+y, numbers))"
      ],
      "metadata": {
        "id": "2x5J3FTTwwjr",
        "colab": {
          "base_uri": "https://localhost:8080/"
        },
        "outputId": "059a2d1d-3b09-4585-f7bf-c10ed96a2729"
      },
      "execution_count": 16,
      "outputs": [
        {
          "output_type": "stream",
          "name": "stdout",
          "text": [
            "15\n"
          ]
        }
      ]
    },
    {
      "cell_type": "markdown",
      "source": [
        "Задача 3. filter( )\n",
        "\n",
        "У нас есть список чисел и мы хотим получить только те, которые больше пяти. Ниже показано решение задача\n",
        "через цикл, решите задачу с помощью функции filter:"
      ],
      "metadata": {
        "id": "uQeD4Sjzwz_l"
      }
    },
    {
      "cell_type": "code",
      "source": [
        "numbers = [2, 7, 1, 8, 4, 5]\n",
        "result = []\n",
        "for num in numbers:\n",
        "  if num > 5:\n",
        "    result.append(num)\n",
        "\n",
        "print(result)"
      ],
      "metadata": {
        "colab": {
          "base_uri": "https://localhost:8080/"
        },
        "id": "C5HtYCYawzaq",
        "outputId": "757b20ea-858e-4b12-cc75-a741e80f550b"
      },
      "execution_count": 17,
      "outputs": [
        {
          "output_type": "stream",
          "name": "stdout",
          "text": [
            "[7, 8]\n"
          ]
        }
      ]
    },
    {
      "cell_type": "code",
      "source": [
        "# ваше решение\n",
        "print(list(filter(lambda x: x>5, numbers)))"
      ],
      "metadata": {
        "id": "XM8bB_uTxKaq",
        "colab": {
          "base_uri": "https://localhost:8080/"
        },
        "outputId": "164242f6-2af5-4c7c-f00d-b77cea45f383"
      },
      "execution_count": 20,
      "outputs": [
        {
          "output_type": "stream",
          "name": "stdout",
          "text": [
            "[7, 8]\n"
          ]
        }
      ]
    }
  ]
}